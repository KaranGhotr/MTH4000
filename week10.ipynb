Skip to content
T-Prellberg
/
MTH4000_test_4
 
Type / to search
 
Code
Issues
Pull requests
Actions
Projects
Security
Insights
Commit
Create week10.ipynb
 main
@T-Prellberg
T-Prellberg committed 3 weeks ago 
0 parents
commit 2230f69
Showing 1 changed file with 52 additions and 0 deletions.
  52 changes: 52 additions & 0 deletions 52  
week10.ipynb
 
@@ -0,0 +1,52 @@
{
 "cells": [
  {
   "cell_type": "markdown",
   "metadata": {},
   "source": [
    "**Week 10 assessment**"
   ]
  },
  {
   "cell_type": "code",
   "execution_count": null,
   "metadata": {},
   "outputs": [],
   "source": [
    "from PIL import Image\n",
    "from IPython.display import display\n",
    "print(\"Mandelbrot set generated via\",__vsc_ipynb_file__)\n",
    "img=Image.effect_mandelbrot((512, 512),(-2.25, -1.5, 0.75, 1.5),100)\n",
    "display(img)"
   ]
  },
  {
   "cell_type": "code",
   "execution_count": null,
   "metadata": {},
   "outputs": [],
   "source": []
  }
 ],
 "metadata": {
  "kernelspec": {
   "display_name": "Python 3 (ipykernel)",
   "language": "python",
   "name": "python3"
  },
  "language_info": {
   "codemirror_mode": {
    "name": "ipython",
    "version": 3
   },
   "file_extension": ".py",
   "mimetype": "text/x-python",
   "name": "python",
   "nbconvert_exporter": "python",
   "pygments_lexer": "ipython3",
   "version": "3.11.3"
  }
 },
 "nbformat": 4,
 "nbformat_minor": 2
}
0 comments on commit 2230f69
@KaranGhotr
Comment
 Leave a comment
 
Footer
© 2023 GitHub, Inc.
Footer navigation
Terms
Privacy
Security
Status
Docs
Contact
MTH4000_test_4/week10.ipynb at main · T-Prellberg/MTH4000_test_4
